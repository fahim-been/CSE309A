{
  "nbformat": 4,
  "nbformat_minor": 0,
  "metadata": {
    "colab": {
      "name": "new.ipynb",
      "provenance": [],
      "authorship_tag": "ABX9TyN9bRdzJ1B35MkTn96sDUpS",
      "include_colab_link": true
    },
    "kernelspec": {
      "name": "python3",
      "display_name": "Python 3"
    }
  },
  "cells": [
    {
      "cell_type": "markdown",
      "metadata": {
        "id": "view-in-github",
        "colab_type": "text"
      },
      "source": [
        "<a href=\"https://colab.research.google.com/github/fahim-been/CSE309A/blob/master/new.ipynb\" target=\"_parent\"><img src=\"https://colab.research.google.com/assets/colab-badge.svg\" alt=\"Open In Colab\"/></a>"
      ]
    },
    {
      "cell_type": "markdown",
      "metadata": {
        "id": "b0T--qiroZiW",
        "colab_type": "text"
      },
      "source": [
        "LOOP\n"
      ]
    },
    {
      "cell_type": "code",
      "metadata": {
        "id": "ICDiaEgyqed5",
        "colab_type": "code",
        "colab": {
          "base_uri": "https://localhost:8080/",
          "height": 187
        },
        "outputId": "c1ab1a66-094f-47a8-c9c3-b201947f06cf"
      },
      "source": [
        "i = 0\n",
        "while (i<10):\n",
        "  print(i)\n",
        "  i = i+1"
      ],
      "execution_count": 1,
      "outputs": [
        {
          "output_type": "stream",
          "text": [
            "0\n",
            "1\n",
            "2\n",
            "3\n",
            "4\n",
            "5\n",
            "6\n",
            "7\n",
            "8\n",
            "9\n"
          ],
          "name": "stdout"
        }
      ]
    },
    {
      "cell_type": "markdown",
      "metadata": {
        "id": "cn2r66xFrCuE",
        "colab_type": "text"
      },
      "source": [
        "1+2+.....+10=55\n"
      ]
    },
    {
      "cell_type": "code",
      "metadata": {
        "id": "DJPlQFZCrHcV",
        "colab_type": "code",
        "colab": {
          "base_uri": "https://localhost:8080/",
          "height": 34
        },
        "outputId": "43ca64b9-2ce0-493c-9fbe-584e6f63d2b9"
      },
      "source": [
        "i = 0\n",
        "sum = 0\n",
        "while i<10:\n",
        "  sum = sum+1\n",
        "  i += 1\n",
        "print(sum)\n"
      ],
      "execution_count": 2,
      "outputs": [
        {
          "output_type": "stream",
          "text": [
            "10\n"
          ],
          "name": "stdout"
        }
      ]
    },
    {
      "cell_type": "code",
      "metadata": {
        "id": "Jn4m2fuTtfB0",
        "colab_type": "code",
        "colab": {
          "base_uri": "https://localhost:8080/",
          "height": 68
        },
        "outputId": "0ec06163-0667-47fa-b79c-3856be0d9d8a"
      },
      "source": [
        "start = int(input(\"Start: \"))\n",
        "end_p = int(input(\"End: \"))\n",
        "\n",
        "sum = 0\n",
        "i=start\n",
        "\n",
        "while i<end_p+1 :\n",
        "  if(i == end_p):   \n",
        "    print(i, end=' ')\n",
        "  else:\n",
        "    print(i, \"+\" , end=' ')\n",
        "  sum = sum + i\n",
        "  i += 2\n",
        "print(\"=\", sum)"
      ],
      "execution_count": 8,
      "outputs": [
        {
          "output_type": "stream",
          "text": [
            "Start: 20\n",
            "End: 40\n",
            "20 + 22 + 24 + 26 + 28 + 30 + 32 + 34 + 36 + 38 + 40 = 330\n"
          ],
          "name": "stdout"
        }
      ]
    }
  ]
}